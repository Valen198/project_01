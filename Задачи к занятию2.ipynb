{
  "nbformat": 4,
  "nbformat_minor": 0,
  "metadata": {
    "colab": {
      "provenance": [],
      "authorship_tag": "ABX9TyP2Ilk9grhKKtsx1pUfVaXW",
      "include_colab_link": true
    },
    "kernelspec": {
      "name": "python3",
      "display_name": "Python 3"
    },
    "language_info": {
      "name": "python"
    }
  },
  "cells": [
    {
      "cell_type": "markdown",
      "metadata": {
        "id": "view-in-github",
        "colab_type": "text"
      },
      "source": [
        "<a href=\"https://colab.research.google.com/github/Valen198/project_01/blob/main/%D0%97%D0%B0%D0%B4%D0%B0%D1%87%D0%B8%20%D0%BA%20%D0%B7%D0%B0%D0%BD%D1%8F%D1%82%D0%B8%D1%8E2.ipynb\" target=\"_parent\"><img src=\"https://colab.research.google.com/assets/colab-badge.svg\" alt=\"Open In Colab\"/></a>"
      ]
    },
    {
      "cell_type": "code",
      "execution_count": 20,
      "metadata": {
        "colab": {
          "base_uri": "https://localhost:8080/"
        },
        "id": "uehouHlfisjL",
        "outputId": "045c8600-072b-4e90-d0ab-fe42f49b99ca"
      },
      "outputs": [
        {
          "output_type": "stream",
          "name": "stdout",
          "text": [
            "['Картофель', 'Горошек', 'Рыба', 'Рис', 'Хлеб']\n",
            "['Картофель', 'Горошек', 'Рыба', 'Рис', 'Хлеб', 'Яблоко', 'Апельсин', 'Клубника']\n",
            "['Горошек', 'Рыба', 'Рис', 'Хлеб', 'Яблоко', 'Апельсин', 'Клубника']\n",
            "Номер хлеба в списке -  3\n",
            "Номер апельсина в списке -  5\n"
          ]
        }
      ],
      "source": [
        "# Задача 1\n",
        "# Приведем список покупок в магазине\n",
        "\n",
        "shop_list = ['Картофель', 'Горошек', 'Рис', 'Хлеб']\n",
        "\n",
        "# Измените список согласно пунктам задания\n",
        "# Выведите результат каждого пункта на консоль по очереди\n",
        "\n",
        "#   а. Вставьте рыбу между горошком и рисом\n",
        "shop_list.insert(2,\"Рыба\")\n",
        "print (shop_list)\n",
        "#   b. Добавьте фрукты из списка fruits в конец списка shop_list\n",
        "shop_list = shop_list +['Яблоко', 'Апельсин', 'Клубника']\n",
        "print (shop_list)\n",
        "\n",
        "#   c. Удалите из списка shop_list картофель\n",
        "shop_list.remove(\"Картофель\")\n",
        "print (shop_list)\n",
        "#   d. Какими по счету стоят хлеб и апельсин? Выведите номера на консоль в формате\n",
        "print (\"Номер хлеба в списке - \", shop_list.index(\"Хлеб\"))\n",
        "print (\"Номер апельсина в списке - \", shop_list.index(\"Апельсин\"))\n",
        "#   Номер \"продукта\" в списке - N"
      ]
    },
    {
      "cell_type": "code",
      "source": [
        "# Задача 2\n",
        "# Создайте список \"города\" с именами любых городов\n",
        "# Количество элементов в списке \"города\" не меньше 3!\n",
        "towns = [\"Москва\", \"Мурманск\", \"Миасс\"]\n",
        "print (towns)\n",
        "# Создайте список списков населения перечисленных городов\n",
        "population= [\n",
        "    [\"Москва\", 11000000],\n",
        "    ['Мурманск', 267422],\n",
        "    ['Миасс', 147995]\n",
        "]\n",
        "\n",
        "\n",
        "'Население Мурманска {x}'.format (x=267422)\n",
        "\n",
        "# Выведите на консоль население второго города в списке в формате\n",
        "# Население Москвы - ХХ человек\n",
        "\n",
        "# Выведите на консоль общий размер населения перечисленных городов как сумму населения всех городов\n",
        "# Итого размер населения - ХХ человек\n",
        "total_people = population[0][1]+population[1][1]+population[2][1]\n",
        "print (f\"Итого размер населения - {total_people} человек\")"
      ],
      "metadata": {
        "colab": {
          "base_uri": "https://localhost:8080/"
        },
        "id": "2IISptSmyrAr",
        "outputId": "e1f5ef2a-5718-4dc5-d416-c705460365cf"
      },
      "execution_count": 26,
      "outputs": [
        {
          "output_type": "stream",
          "name": "stdout",
          "text": [
            "['Москва', 'Мурманск', 'Миасс']\n",
            "Итого размер населения - 11415417 человек\n"
          ]
        }
      ]
    },
    {
      "cell_type": "code",
      "source": [
        "# Задача 3\n",
        "# Поиск самых высокооплачиваемых работников с помощью спискового включения\n",
        "\n",
        "# нужно найти всех сотрудников,\n",
        "# зарабатывающих по крайней мере 100 000 долларов в год\n",
        "\n",
        "employees = {'Alice' : 100000,\n",
        "    'Bob' : 99817,\n",
        "    'Carol' : 122908,\n",
        "    'Frank' : 88123,\n",
        "    'Eve' : 93121}\n",
        "max(employees[1])\n",
        "\n"
      ],
      "metadata": {
        "colab": {
          "base_uri": "https://localhost:8080/",
          "height": 227
        },
        "id": "W6wrUjqB60oY",
        "outputId": "2577f672-da71-4e58-c2e9-8323f67e4d17"
      },
      "execution_count": 29,
      "outputs": [
        {
          "output_type": "error",
          "ename": "KeyError",
          "evalue": "ignored",
          "traceback": [
            "\u001b[0;31m---------------------------------------------------------------------------\u001b[0m",
            "\u001b[0;31mKeyError\u001b[0m                                  Traceback (most recent call last)",
            "\u001b[0;32m<ipython-input-29-ea58a5e55519>\u001b[0m in \u001b[0;36m<cell line: 12>\u001b[0;34m()\u001b[0m\n\u001b[1;32m     10\u001b[0m     \u001b[0;34m'Frank'\u001b[0m \u001b[0;34m:\u001b[0m \u001b[0;36m88123\u001b[0m\u001b[0;34m,\u001b[0m\u001b[0;34m\u001b[0m\u001b[0;34m\u001b[0m\u001b[0m\n\u001b[1;32m     11\u001b[0m     'Eve' : 93121}\n\u001b[0;32m---> 12\u001b[0;31m \u001b[0mmax\u001b[0m\u001b[0;34m(\u001b[0m\u001b[0memployees\u001b[0m\u001b[0;34m[\u001b[0m\u001b[0;36m1\u001b[0m\u001b[0;34m]\u001b[0m\u001b[0;34m)\u001b[0m\u001b[0;34m\u001b[0m\u001b[0;34m\u001b[0m\u001b[0m\n\u001b[0m\u001b[1;32m     13\u001b[0m \u001b[0;34m\u001b[0m\u001b[0m\n",
            "\u001b[0;31mKeyError\u001b[0m: 1"
          ]
        }
      ]
    }
  ]
}